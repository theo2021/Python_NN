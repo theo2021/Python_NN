{
 "cells": [
  {
   "cell_type": "code",
   "execution_count": 1,
   "metadata": {},
   "outputs": [],
   "source": [
    "import numpy as np # array magic\n",
    "import pickle # binary reader writer, needed to fetch our data\n",
    "from matplotlib import pyplot as plt # ploting library"
   ]
  },
  {
   "cell_type": "code",
   "execution_count": 1,
   "metadata": {},
   "outputs": [],
   "source": [
    "from python_nn.models import Sequential # the feed forward model we will use\n",
    "from python_nn.layers.dense import Dense # simple neural network layer\n",
    "from python_nn.callbacks import Monitor # monitor class to track learning\n",
    "from python_nn.functions.util import val2onehot # "
   ]
  },
  {
   "cell_type": "code",
   "execution_count": 3,
   "metadata": {},
   "outputs": [],
   "source": [
    "def get_batch_file(file_num):\n",
    "    with open(\"Data/CIFAR-10//data_batch_\" + str(file_num), 'rb') as file:\n",
    "        d = pickle.load(file, encoding='bytes')\n",
    "    return d"
   ]
  },
  {
   "cell_type": "code",
   "execution_count": 4,
   "metadata": {},
   "outputs": [],
   "source": [
    "data_1 = get_batch_file(1) # Get batch file 1 for training\n",
    "data_2 = get_batch_file(2) # batch 2 for validation\n",
    "# getting data and labels\n",
    "inputs_1 = data_1[b'data']\n",
    "inputs_2 = data_2[b'data']\n",
    "labels_1 = val2onehot(data_1[b'labels'])\n",
    "labels_2 = val2onehot(data_2[b'labels'])\n",
    "## zero mean 1 variance normalization\n",
    "mu = np.mean(inputs_1, axis=0)\n",
    "var = np.sqrt(np.var(inputs_1, axis=0))\n",
    "inputs_1 = (inputs_1 - mu)/var\n",
    "inputs_2 = (inputs_2 - mu)/var"
   ]
  },
  {
   "cell_type": "code",
   "execution_count": 5,
   "metadata": {},
   "outputs": [
    {
     "name": "stdout",
     "output_type": "stream",
     "text": [
      "(10000, 3072)\n",
      "(10000, 10)\n"
     ]
    }
   ],
   "source": [
    "print(inputs_1.shape) # lets see our data shape\n",
    "print(labels_1.shape)"
   ]
  },
  {
   "cell_type": "code",
   "execution_count": 6,
   "metadata": {},
   "outputs": [],
   "source": [
    "# network design\n",
    "nn_model = Sequential(input_dim = inputs_1.shape[1]) # initializing NN, our inputs are of shape 3072\n",
    "nn_model.add_layer(Dense, nodes=50, function='relu') # creating hidden layer with relu function\n",
    "nn_model.add_layer(Dense, nodes=10, function='softmax') # adding the output layer which should match the layer dimension\n",
    "nn_model.compile(loss_func='entropy', \n",
    "                 optimizer={'name': 'SGD', 'args': {'learning_rate': 0.001, 'momentum': 0.8}},\n",
    "                  regularizer={'name': 'ridge', 'args': {'lamb': 0.01}}) # setting network parameters"
   ]
  },
  {
   "cell_type": "code",
   "execution_count": 7,
   "metadata": {},
   "outputs": [],
   "source": [
    "# To monitor our training we use the monitor class\n",
    "monitor_train = Monitor(inputs_1, labels_1)\n",
    "monitor_val = Monitor(inputs_2, labels_2)\n",
    "# training our model for 40 epochs with batch size 100\n",
    "nn_model.train(inputs_1, labels_1, 40, 100, callbacks=[monitor_train, monitor_val])"
   ]
  },
  {
   "cell_type": "code",
   "execution_count": 8,
   "metadata": {},
   "outputs": [],
   "source": [
    "# fetching training statistics from our monitors\n",
    "results_train = monitor_train.pandas()\n",
    "results_val = monitor_val.pandas()"
   ]
  },
  {
   "cell_type": "code",
   "execution_count": 9,
   "metadata": {},
   "outputs": [
    {
     "data": {
      "image/png": "[encoded data removed]",
      "text/plain": [
       "<Figure size 432x288 with 1 Axes>"
      ]
     },
     "metadata": {
      "needs_background": "light"
     },
     "output_type": "display_data"
    }
   ],
   "source": [
    "plt.plot(results_train['epoch'],results_train['accuracy'], label='training')\n",
    "plt.plot(results_val['epoch'],results_val['accuracy'], label='validation')\n",
    "plt.xlabel('epoch')\n",
    "plt.ylabel('accuracy')\n",
    "plt.legend()\n",
    "plt.show()"
   ]
  }
 ],
 "metadata": {
  "kernelspec": {
   "display_name": "Python 3",
   "language": "python",
   "name": "python3"
  },
  "language_info": {
   "codemirror_mode": {
    "name": "ipython",
    "version": 3
   },
   "file_extension": ".py",
   "mimetype": "text/x-python",
   "name": "python",
   "nbconvert_exporter": "python",
   "pygments_lexer": "ipython3",
   "version": "3.7.4"
  }
 },
 "nbformat": 4,
 "nbformat_minor": 4
}
