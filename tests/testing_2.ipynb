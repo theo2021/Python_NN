{
 "cells": [
  {
   "cell_type": "code",
   "execution_count": 1,
   "metadata": {},
   "outputs": [],
   "source": [
    "%load_ext autoreload\n",
    "%autoreload 2"
   ]
  },
  {
   "cell_type": "code",
   "execution_count": 2,
   "metadata": {},
   "outputs": [],
   "source": [
    "import numpy as np\n",
    "import pickle\n",
    "from matplotlib import pyplot as plt\n",
    "import re"
   ]
  },
  {
   "cell_type": "code",
   "execution_count": 3,
   "metadata": {},
   "outputs": [],
   "source": [
    "from python_nn.models import Sequential\n",
    "from python_nn.layers.dense import Dense\n",
    "from python_nn.callbacks import Monitor\n",
    "from python_nn.layers.convolution import ConvLayer1D"
   ]
  },
  {
   "cell_type": "code",
   "execution_count": 4,
   "metadata": {},
   "outputs": [],
   "source": [
    "def val2onehot(val_array, classes):\n",
    "    labels = np.zeros((len(val_array), classes))\n",
    "    for ind,lbl in enumerate(val_array):\n",
    "        labels[ind,lbl] = 1\n",
    "    return labels\n",
    "\n",
    "name_dir = 'CNN_data/ascii_names.txt'\n",
    "labels_dir = 'CNN_data/category_labels.txt'\n",
    "regex_names = re.compile(r'(.+) ([0-9]+)')\n",
    "regex_labels = re.compile(r'([0-9]+) (.+)')\n",
    "name_dict = {}\n",
    "labels_dict = {}\n",
    "with open(name_dir, 'r') as r_file:\n",
    "    for line in r_file:\n",
    "        name = regex_names.match(line).group(1).lower()\n",
    "        number = regex_names.match(line).group(2)\n",
    "        name_dict[name] = int(number)\n",
    "with open(labels_dir, 'r') as r_file:\n",
    "    for line in r_file:\n",
    "        number = regex_labels.match(line).group(1)\n",
    "        name = regex_labels.match(line).group(2)\n",
    "        labels_dict[number] = name\n",
    "\n",
    "# building the matrices\n",
    "\n",
    "num_of_classes = max(name_dict.values())\n",
    "max_len = 0\n",
    "char_dict = {}\n",
    "for name in name_dict.keys():\n",
    "    if max_len < len(name):\n",
    "        max_len = len(name)\n",
    "    for char in name:\n",
    "        if char not in char_dict.keys():\n",
    "            char_dict[char] = len(char_dict)\n",
    "dif_chars = len(char_dict)\n",
    "input_array = np.zeros((len(name_dict), dif_chars, max_len))\n",
    "labels_array = np.zeros((len(name_dict), 1), dtype=int)\n",
    "for i, name in enumerate(name_dict.keys()):\n",
    "    labels_array[i] = name_dict[name]\n",
    "    for j, char in enumerate(name):\n",
    "        input_array[i, char_dict[char], j] = 1\n",
    "input_array_flatten = np.zeros((len(name_dict), dif_chars* max_len), dtype=int)\n",
    "for i in range(input_array.shape[0]):\n",
    "    input_array_flatten[i] = input_array[i].flatten('F')\n",
    "labels_array -= 1\n",
    "\n",
    "freqdict = np.unique(labels_array, return_counts=True)\n",
    "l = np.sum(freqdict[1])/ freqdict[1]/18\n",
    "labels = val2onehot(labels_array, 18)\n",
    "validation = int(input_array_flatten.shape[0]*0.2)\n",
    "rnd_choice = np.random.choice(input_array_flatten.shape[0],validation)\n",
    "validation_ind = np.zeros((input_array_flatten.shape[0]))\n",
    "validation_ind[rnd_choice] = 1\n",
    "validation_set = input_array_flatten[validation_ind == 1]\n",
    "training_set = input_array_flatten[validation_ind == 0]\n",
    "validation_labels = labels[validation_ind == 1]\n",
    "validation_labels_ind = labels_array[validation_ind == 1]\n",
    "training_labels = labels[validation_ind == 0]"
   ]
  },
  {
   "cell_type": "code",
   "execution_count": 9,
   "metadata": {},
   "outputs": [],
   "source": [
    "newNN = Sequential(dim_2d=(dif_chars,max_len))\n",
    "newNN.add_layer(ConvLayer1D, filter_len=5, filter_num=20, function='relu', padding=0, stride=1)\n",
    "newNN.add_layer(ConvLayer1D, filter_len=3, filter_num=20, function='relu', padding=0, stride=1)\n",
    "newNN.add_layer(Dense, nodes=18, function='softmax')"
   ]
  },
  {
   "cell_type": "code",
   "execution_count": 10,
   "metadata": {},
   "outputs": [],
   "source": [
    "newNN.compile(loss_func='entropy', loss_weights=l, regularizer={'name': 'ridge', 'args': {'lamb': 0}})"
   ]
  },
  {
   "cell_type": "code",
   "execution_count": null,
   "metadata": {},
   "outputs": [],
   "source": []
  },
  {
   "cell_type": "code",
   "execution_count": null,
   "metadata": {},
   "outputs": [],
   "source": []
  },
  {
   "cell_type": "code",
   "execution_count": null,
   "metadata": {},
   "outputs": [],
   "source": []
  },
  {
   "cell_type": "code",
   "execution_count": null,
   "metadata": {},
   "outputs": [],
   "source": []
  },
  {
   "cell_type": "code",
   "execution_count": 7,
   "metadata": {},
   "outputs": [],
   "source": [
    "monitor = Monitor(validation_set, validation_labels)"
   ]
  },
  {
   "cell_type": "code",
   "execution_count": 11,
   "metadata": {},
   "outputs": [],
   "source": [
    "#new_model.monitor('val', inputs_2, labels_2)\n",
    "newNN.train(training_set, training_labels, 60, 32, callbacks=[monitor])"
   ]
  },
  {
   "cell_type": "code",
   "execution_count": 12,
   "metadata": {},
   "outputs": [
    {
     "data": {
      "text/plain": [
       "[<matplotlib.lines.Line2D at 0x7ff31cd94790>]"
      ]
     },
     "execution_count": 12,
     "metadata": {},
     "output_type": "execute_result"
    },
    {
     "data": {
      "image/png": "[encoded data removed]",
      "text/plain": [
       "<Figure size 432x288 with 1 Axes>"
      ]
     },
     "metadata": {
      "needs_background": "light"
     },
     "output_type": "display_data"
    }
   ],
   "source": [
    "res = monitor.pandas()\n",
    "plt.plot(res['accuracy'])"
   ]
  },
  {
   "cell_type": "code",
   "execution_count": 19,
   "metadata": {},
   "outputs": [
    {
     "data": {
      "text/html": [
       "<div>\n",
       "<style scoped>\n",
       "    .dataframe tbody tr th:only-of-type {\n",
       "        vertical-align: middle;\n",
       "    }\n",
       "\n",
       "    .dataframe tbody tr th {\n",
       "        vertical-align: top;\n",
       "    }\n",
       "\n",
       "    .dataframe thead th {\n",
       "        text-align: right;\n",
       "    }\n",
       "</style>\n",
       "<table border=\"1\" class=\"dataframe\">\n",
       "  <thead>\n",
       "    <tr style=\"text-align: right;\">\n",
       "      <th></th>\n",
       "      <th>epoch</th>\n",
       "      <th>iteration</th>\n",
       "      <th>accuracy</th>\n",
       "      <th>loss</th>\n",
       "      <th>total loss</th>\n",
       "    </tr>\n",
       "  </thead>\n",
       "  <tbody>\n",
       "    <tr>\n",
       "      <td>0</td>\n",
       "      <td>0.0</td>\n",
       "      <td>0.0</td>\n",
       "      <td>0.004412</td>\n",
       "      <td>2.929205</td>\n",
       "      <td>2.929205</td>\n",
       "    </tr>\n",
       "    <tr>\n",
       "      <td>1</td>\n",
       "      <td>1.0</td>\n",
       "      <td>446.0</td>\n",
       "      <td>0.005358</td>\n",
       "      <td>2.841411</td>\n",
       "      <td>2.841411</td>\n",
       "    </tr>\n",
       "    <tr>\n",
       "      <td>2</td>\n",
       "      <td>2.0</td>\n",
       "      <td>892.0</td>\n",
       "      <td>0.004412</td>\n",
       "      <td>2.835437</td>\n",
       "      <td>2.835437</td>\n",
       "    </tr>\n",
       "    <tr>\n",
       "      <td>3</td>\n",
       "      <td>3.0</td>\n",
       "      <td>1338.0</td>\n",
       "      <td>0.003467</td>\n",
       "      <td>2.835158</td>\n",
       "      <td>2.835158</td>\n",
       "    </tr>\n",
       "    <tr>\n",
       "      <td>4</td>\n",
       "      <td>0.0</td>\n",
       "      <td>0.0</td>\n",
       "      <td>0.003152</td>\n",
       "      <td>2.832788</td>\n",
       "      <td>2.832788</td>\n",
       "    </tr>\n",
       "    <tr>\n",
       "      <td>...</td>\n",
       "      <td>...</td>\n",
       "      <td>...</td>\n",
       "      <td>...</td>\n",
       "      <td>...</td>\n",
       "      <td>...</td>\n",
       "    </tr>\n",
       "    <tr>\n",
       "      <td>79</td>\n",
       "      <td>35.0</td>\n",
       "      <td>15610.0</td>\n",
       "      <td>0.203908</td>\n",
       "      <td>2.472572</td>\n",
       "      <td>2.472572</td>\n",
       "    </tr>\n",
       "    <tr>\n",
       "      <td>80</td>\n",
       "      <td>36.0</td>\n",
       "      <td>16056.0</td>\n",
       "      <td>0.208320</td>\n",
       "      <td>2.500458</td>\n",
       "      <td>2.500458</td>\n",
       "    </tr>\n",
       "    <tr>\n",
       "      <td>81</td>\n",
       "      <td>37.0</td>\n",
       "      <td>16502.0</td>\n",
       "      <td>0.208005</td>\n",
       "      <td>2.530741</td>\n",
       "      <td>2.530741</td>\n",
       "    </tr>\n",
       "    <tr>\n",
       "      <td>82</td>\n",
       "      <td>38.0</td>\n",
       "      <td>16948.0</td>\n",
       "      <td>0.209896</td>\n",
       "      <td>2.566993</td>\n",
       "      <td>2.566993</td>\n",
       "    </tr>\n",
       "    <tr>\n",
       "      <td>83</td>\n",
       "      <td>39.0</td>\n",
       "      <td>17394.0</td>\n",
       "      <td>0.214623</td>\n",
       "      <td>2.605819</td>\n",
       "      <td>2.605819</td>\n",
       "    </tr>\n",
       "  </tbody>\n",
       "</table>\n",
       "<p>84 rows × 5 columns</p>\n",
       "</div>"
      ],
      "text/plain": [
       "    epoch  iteration  accuracy      loss  total loss\n",
       "0     0.0        0.0  0.004412  2.929205    2.929205\n",
       "1     1.0      446.0  0.005358  2.841411    2.841411\n",
       "2     2.0      892.0  0.004412  2.835437    2.835437\n",
       "3     3.0     1338.0  0.003467  2.835158    2.835158\n",
       "4     0.0        0.0  0.003152  2.832788    2.832788\n",
       "..    ...        ...       ...       ...         ...\n",
       "79   35.0    15610.0  0.203908  2.472572    2.472572\n",
       "80   36.0    16056.0  0.208320  2.500458    2.500458\n",
       "81   37.0    16502.0  0.208005  2.530741    2.530741\n",
       "82   38.0    16948.0  0.209896  2.566993    2.566993\n",
       "83   39.0    17394.0  0.214623  2.605819    2.605819\n",
       "\n",
       "[84 rows x 5 columns]"
      ]
     },
     "execution_count": 19,
     "metadata": {},
     "output_type": "execute_result"
    }
   ],
   "source": [
    "res"
   ]
  },
  {
   "cell_type": "code",
   "execution_count": 20,
   "metadata": {},
   "outputs": [
    {
     "data": {
      "text/plain": [
       "3.0"
      ]
     },
     "execution_count": 20,
     "metadata": {},
     "output_type": "execute_result"
    }
   ],
   "source": [
    "3%np.inf"
   ]
  },
  {
   "cell_type": "code",
   "execution_count": 13,
   "metadata": {},
   "outputs": [],
   "source": []
  },
  {
   "cell_type": "code",
   "execution_count": 48,
   "metadata": {},
   "outputs": [],
   "source": [
    "monitor.clear()"
   ]
  },
  {
   "cell_type": "code",
   "execution_count": 19,
   "metadata": {},
   "outputs": [],
   "source": []
  },
  {
   "cell_type": "code",
   "execution_count": null,
   "metadata": {},
   "outputs": [],
   "source": []
  }
 ],
 "metadata": {
  "kernelspec": {
   "display_name": "Python 3",
   "language": "python",
   "name": "python3"
  },
  "language_info": {
   "codemirror_mode": {
    "name": "ipython",
    "version": 3
   },
   "file_extension": ".py",
   "mimetype": "text/x-python",
   "name": "python",
   "nbconvert_exporter": "python",
   "pygments_lexer": "ipython3",
   "version": "3.7.4"
  }
 },
 "nbformat": 4,
 "nbformat_minor": 4
}
